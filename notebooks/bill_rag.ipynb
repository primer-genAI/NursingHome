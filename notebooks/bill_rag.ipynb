{
 "cells": [
  {
   "cell_type": "code",
   "execution_count": 1,
   "metadata": {},
   "outputs": [],
   "source": [
    "# !pip install python-dotenv\n",
    "# !pip install langchain-upstage"
   ]
  },
  {
   "cell_type": "code",
   "execution_count": 2,
   "metadata": {},
   "outputs": [],
   "source": [
    "from dotenv import load_dotenv\n",
    "import os\n",
    "import json\n",
    "import sys\n",
    "import time\n",
    "from tqdm import tqdm\n",
    "from langchain_upstage import UpstageLayoutAnalysisLoader\n",
    "from langchain_core.documents.base import Document\n",
    "\n",
    "# Load environment variables\n",
    "load_dotenv()\n",
    "\n",
    "# Load API keys from environment variables\n",
    "UPSTAGE_API_KEY = os.getenv('UPSTAGE_API_KEY')"
   ]
  },
  {
   "cell_type": "code",
   "execution_count": 3,
   "metadata": {},
   "outputs": [],
   "source": [
    "def main(file_path, output_path):\n",
    "    start_time = time.time()\n",
    "    \n",
    "    # For image files, set use_ocr to True to perform OCR inference on the document before layout detection.\n",
    "    loader = UpstageLayoutAnalysisLoader(file_path, split=\"page\", api_key=UPSTAGE_API_KEY, use_ocr=True)\n",
    "    \n",
    "    # For improved memory efficiency, consider using the lazy_load method to load documents page by page.\n",
    "    pages = list(tqdm(loader.load(), desc=\"Processing pages\", unit=\"page\"))\n",
    "    \n",
    "    # OCR 결과물을 json으로 저장\n",
    "    pages_list = [\n",
    "        {\"text\": page.page_content, \"metadata\": page.metadata} for page in pages\n",
    "    ]\n",
    "\n",
    "    with open(output_path, \"w\", encoding=\"utf-8\") as file: \n",
    "        json.dump(pages_list, file, ensure_ascii=False, indent=4)\n",
    "    \n",
    "    end_time = time.time()\n",
    "    elapsed_time = end_time - start_time\n",
    "    print(f\"OCR processing for {file_path} completed in {elapsed_time:.2f} seconds.\")\n",
    "\n",
    "def load_documents_from_json(file_name):\n",
    "    with open(file_name, \"r\", encoding=\"utf-8\") as file:\n",
    "        docs_list = json.load(file)\n",
    "    return [\n",
    "        Document(page_content=doc[\"text\"], metadata=doc[\"metadata\"]) for doc in docs_list\n",
    "    ]\n",
    "\n",
    "def format_docs(docs):\n",
    "    return \"\\n\\n\".join(doc.page_content for doc in docs)"
   ]
  },
  {
   "cell_type": "code",
   "execution_count": 4,
   "metadata": {},
   "outputs": [],
   "source": [
    "from glob import glob"
   ]
  },
  {
   "cell_type": "code",
   "execution_count": 5,
   "metadata": {},
   "outputs": [],
   "source": [
    "reports = glob('./data/bill/*.pdf')"
   ]
  },
  {
   "cell_type": "code",
   "execution_count": 6,
   "metadata": {},
   "outputs": [
    {
     "data": {
      "text/plain": [
       "['./data/bill/환자군별청구액및간병비.pdf']"
      ]
     },
     "execution_count": 6,
     "metadata": {},
     "output_type": "execute_result"
    }
   ],
   "source": [
    "reports"
   ]
  },
  {
   "cell_type": "code",
   "execution_count": 8,
   "metadata": {},
   "outputs": [],
   "source": [
    "results = ['./data/bill/환자군별청구액및간병비.json']"
   ]
  },
  {
   "cell_type": "code",
   "execution_count": 9,
   "metadata": {},
   "outputs": [
    {
     "data": {
      "text/plain": [
       "['./data/bill/환자군별청구액및간병비.json']"
      ]
     },
     "execution_count": 9,
     "metadata": {},
     "output_type": "execute_result"
    }
   ],
   "source": [
    "results"
   ]
  },
  {
   "cell_type": "code",
   "execution_count": 15,
   "metadata": {},
   "outputs": [
    {
     "name": "stderr",
     "output_type": "stream",
     "text": [
      "Processing pages: 100%|██████████| 1/1 [00:00<00:00, 22192.08page/s]"
     ]
    },
    {
     "name": "stdout",
     "output_type": "stream",
     "text": [
      "OCR processing for ./data/bill/환자군별청구액및간병비.pdf completed in 3.80 seconds.\n"
     ]
    },
    {
     "name": "stderr",
     "output_type": "stream",
     "text": [
      "\n"
     ]
    }
   ],
   "source": [
    "for report, result in zip(reports, results):\n",
    "    if os.path.isfile(result):\n",
    "        print(result + ': ocr 완료')\n",
    "        pass\n",
    "    else:\n",
    "        main(report, result)"
   ]
  },
  {
   "cell_type": "code",
   "execution_count": 10,
   "metadata": {},
   "outputs": [],
   "source": [
    "with open(results[0]) as f:\n",
    "    data = json.load(f)"
   ]
  },
  {
   "cell_type": "code",
   "execution_count": 11,
   "metadata": {},
   "outputs": [
    {
     "name": "stdout",
     "output_type": "stream",
     "text": [
      "<table id='0' style='font-size:20px'><tr><td>(2024년)환자군별</td><td>공단청구금/본인부담금/간병비 산출내역</td></tr><tr><td></td><td></td></tr></table> <h1 id='1' style='font-size:16px'>1. 공단청구금</h1> <br><table id='2' style='font-size:16px'><tr><td>환 자 군</td><td>일당정액수가</td><td>필요인력가산</td><td>환자안전관리료</td><td>감염관리료</td><td>총진료비</td><td>식 대</td><td>공단청구금</td><td>본인부담금</td><td>요양급여총액</td></tr><tr><td>의료최고도</td><td>85,050</td><td rowspan=\"5\">51,300</td><td rowspan=\"5\">47,100</td><td rowspan=\"5\">66,600</td><td>2,716,500</td><td rowspan=\"5\">564,300</td><td>2,455,350</td><td>825,450</td><td>3,280,800</td></tr><tr><td>의료고도</td><td>75,510</td><td>2,430,300</td><td>2,226,390</td><td>768,210</td><td>2,994,600</td></tr><tr><td>의료중도</td><td>64,620</td><td>2,103,600</td><td>1,965,030</td><td>702,870</td><td>2,667,900</td></tr><tr><td>의료경도</td><td>62,510</td><td>2,040,300</td><td>1,914,390</td><td>690,210</td><td>2,604,600</td></tr><tr><td>선택입원군</td><td>47,000</td><td>1,575,000</td><td>1,227,150</td><td>912,150</td><td>2,139,300</td></tr></table> <br><h1 id='3' style='font-size:16px'>☞의사/간호사 1등급, 일반식/,월30일 기준</h1> <p id='4' data-category='paragraph' style='font-size:18px'>2. 별도 청구: 재활, 한방, 혈액투석 등</p> <h1 id='5' style='font-size:18px'>3. 비보험: 간병비 및 병실료차액</h1> <br><table id='6' style='font-size:14px'><tr><td>구 분</td><td>1인실</td><td>2인실</td><td>3인실</td><td>4인실</td><td>5인실</td><td>6인실</td></tr><tr><td rowspan=\"2\">간병비</td><td>1:1 개인간병</td><td>2:1 공동간병</td><td>3:1 공동간병</td><td>4:1 공동간병</td><td>5:1 공동간병</td><td>6:1 공동간병</td></tr><tr><td>1일 약@130,000</td><td>1일 약@65,000</td><td>1일 약@40,000</td><td>1일 약@30,000</td><td>1일 약@27,000</td><td>1일 약@25,000</td></tr><tr><td>병실료차액</td><td>1일 약@70,000</td><td>1일 약@50,000</td><td>1일 약@30,000</td><td>-</td><td>-</td><td>-</td></tr><tr><td>기타(기저귀 등)</td><td>사용량</td><td>사용량</td><td>사용량</td><td>사용량</td><td>사용량</td><td>사용량</td></tr></table>\n"
     ]
    }
   ],
   "source": [
    "print(data[0]['text'])"
   ]
  },
  {
   "cell_type": "code",
   "execution_count": 12,
   "metadata": {},
   "outputs": [],
   "source": [
    "!pip install --upgrade --quiet  markdownify"
   ]
  },
  {
   "cell_type": "code",
   "execution_count": 2,
   "metadata": {},
   "outputs": [
    {
     "name": "stdout",
     "output_type": "stream",
     "text": [
      "<class 'list'>\n",
      "1\n"
     ]
    }
   ],
   "source": [
    "from langchain_community.document_loaders import TextLoader\n",
    "\n",
    "loader = TextLoader('./data/bill/bills.txt')\n",
    "data = loader.load()\n",
    "\n",
    "print(type(data))\n",
    "print(len(data))"
   ]
  },
  {
   "cell_type": "code",
   "execution_count": 3,
   "metadata": {},
   "outputs": [
    {
     "name": "stderr",
     "output_type": "stream",
     "text": [
      "Splitting documents: 100%|██████████| 2/2 [00:00<00:00, 12925.44chunk/s]\n"
     ]
    },
    {
     "name": "stdout",
     "output_type": "stream",
     "text": [
      "Number of splits: 2\n"
     ]
    },
    {
     "name": "stderr",
     "output_type": "stream",
     "text": [
      "/Users/seongyeon/Desktop/Nursing-home/.venv/lib/python3.12/site-packages/langchain_core/_api/deprecation.py:141: LangChainDeprecationWarning: Since Chroma 0.4.x the manual persistence method is no longer supported as docs are automatically persisted.\n",
      "  warn_deprecated(\n"
     ]
    }
   ],
   "source": [
    "from dotenv import load_dotenv\n",
    "import os\n",
    "import json\n",
    "import sys\n",
    "import time\n",
    "from tqdm import tqdm\n",
    "# from langchain_community.vectorstores import Chroma\n",
    "from langchain.vectorstores import Chroma\n",
    "from langchain.text_splitter import RecursiveCharacterTextSplitter\n",
    "from langchain_upstage import UpstageEmbeddings\n",
    "\n",
    "# Load environment variables\n",
    "load_dotenv()\n",
    "\n",
    "# Load API keys from environment variables\n",
    "UPSTAGE_API_KEY = os.getenv('UPSTAGE_API_KEY')\n",
    "\n",
    "start_time = time.time()\n",
    "\n",
    "# Use the recursive character splitter\n",
    "recur_splitter = RecursiveCharacterTextSplitter(\n",
    "    chunk_size=1000,\n",
    "    chunk_overlap=60,\n",
    "    separators=[\"\\n\"]\n",
    ")\n",
    "\n",
    "# Perform the splits using the splitter\n",
    "data_splits = list(tqdm(recur_splitter.split_documents(data), desc=\"Splitting documents\", unit=\"chunk\"))\n",
    "print(f\"Number of splits: {len(data_splits)}\")\n",
    "\n",
    "# Vector Store 구축\n",
    "embeddings = UpstageEmbeddings(\n",
    "    api_key=UPSTAGE_API_KEY,\n",
    "    model=\"solar-embedding-1-large\"\n",
    ")\n",
    "\n",
    "persist_directory = '.cache/db/bill'\n",
    "\n",
    "vectordb = Chroma.from_documents(\n",
    "    documents=data_splits, # 위에서 처리한 데이터 \n",
    "    embedding=embeddings, # upstage solar embedding 1 large\n",
    "    persist_directory=persist_directory)\n",
    "\n",
    "vectordb.persist()\n",
    "vectordb = None\n",
    "\n",
    "end_time = time.time()\n",
    "elapsed_time = end_time - start_time"
   ]
  },
  {
   "cell_type": "code",
   "execution_count": 4,
   "metadata": {},
   "outputs": [],
   "source": [
    "from langchain.chains import LLMChain\n",
    "from langchain.prompts import PromptTemplate, ChatPromptTemplate, MessagesPlaceholder\n",
    "from langchain_core.output_parsers import StrOutputParser\n",
    "\n",
    "from langchain_core.runnables import RunnablePassthrough\n",
    "\n",
    "from langchain.vectorstores import Chroma\n",
    "from langchain_upstage import ChatUpstage, UpstageEmbeddings"
   ]
  },
  {
   "cell_type": "code",
   "execution_count": 5,
   "metadata": {},
   "outputs": [
    {
     "name": "stderr",
     "output_type": "stream",
     "text": [
      "/Users/seongyeon/Desktop/Nursing-home/.venv/lib/python3.12/site-packages/langchain_core/_api/deprecation.py:141: LangChainDeprecationWarning: The class `Chroma` was deprecated in LangChain 0.2.9 and will be removed in 0.4. An updated version of the class exists in the langchain-chroma package and should be used instead. To use it run `pip install -U langchain-chroma` and import as `from langchain_chroma import Chroma`.\n",
      "  warn_deprecated(\n"
     ]
    }
   ],
   "source": [
    "llm = ChatUpstage(api_key=os.getenv(\"UPSTAGE_API_KEY\"))\n",
    "\n",
    "\n",
    "# Embeddings setup\n",
    "embeddings = UpstageEmbeddings(\n",
    "  api_key=os.getenv(\"UPSTAGE_API_KEY\"),\n",
    "  model=\"solar-embedding-1-large\"\n",
    ")\n",
    "\n",
    "vectordb = Chroma(\n",
    "    persist_directory=persist_directory,\n",
    "    embedding_function=embeddings\n",
    ")\n",
    "\n",
    "retriever = vectordb.as_retriever()\n",
    "\n",
    "RAG_PROMPT_TEMPLATE=\"\"\"\n",
    "\n",
    "# 당신의 역할\n",
    "- 당신은 요양병원에서 환자들의 보호자에게 병원비를 산출하여 알려주는 시스템입니다.\n",
    "\n",
    "------\n",
    "\n",
    "# 병원비 산출 방식 : \\n\\t{context}\n",
    "\n",
    "------\n",
    "    \n",
    "# 참고 사항\n",
    "- 정확한 값이 없다면 어림값으로 계산해주세요.\n",
    "\n",
    "------\n",
    "\n",
    "# 보호자의 질문 : \\n\\t{question}\n",
    "\n",
    "------\n",
    "\n",
    "# 중요\n",
    "- 한국어로 답변해주세요\n",
    "\n",
    "# 답변 :\n",
    "\"\"\"\n",
    "\n",
    "rag_prompt = ChatPromptTemplate.from_template(RAG_PROMPT_TEMPLATE)\n",
    "\n",
    "def format_docs(docs):\n",
    "    return \"\\n\\n\".join(doc.page_content for doc in docs)\n",
    "\n",
    "# Define the RAG chain\n",
    "qa_chain = (\n",
    "    {\n",
    "        \"context\": retriever | format_docs,\n",
    "        \"question\": RunnablePassthrough(),\n",
    "    }\n",
    "    | rag_prompt\n",
    "    | llm\n",
    "    | StrOutputParser()\n",
    ")"
   ]
  },
  {
   "cell_type": "code",
   "execution_count": 6,
   "metadata": {},
   "outputs": [
    {
     "name": "stderr",
     "output_type": "stream",
     "text": [
      "Number of requested results 4 is greater than number of elements in index 2, updating n_results = 2\n"
     ]
    },
    {
     "name": "stdout",
     "output_type": "stream",
     "text": [
      "안녕하세요! 요양병원에서 환자들의 보호자에게 병원비를 산출하여 알려주는 시스템입니다.\n",
      "\n",
      "1인실에 10일 입원하신 경우, 병원비는 다음과 같이 계산됩니다.\n",
      "\n",
      "공단청구금:\n",
      "\n",
      "| 환자군 | 일당정액수가 | 필요인력가산 | 환자안전관리료 | 감염관리료 | 총진료비 | 식대 | 공단청구금 | 본인부담금 | 요양급여총액 |\n",
      "| --- | --- | --- | --- | --- | --- | --- | --- | --- | --- |\n",
      "| 의료최고도 | 85,050 | 51,300 | 47,100 | 66,600 | 2,716,500 | 564,300 | 2,455,350 | 825,450 | 3,280,800 |\n",
      "\n",
      "10일 동안의 공단청구금은 2,455,350원 x 10일 = 24,553,500원입니다.\n",
      "\n",
      "병실료차액:\n",
      "\n",
      "| 1인실 | 2인실 | 3인실 | 4인실 | 5인실 | 6인실 |\n",
      "| --- | --- | --- | --- | --- | --- |\n",
      "| 간병비 | 1:1 개인간병 | 2:1 공동간병 | 3:1 공동간병 | 4:1 공동간병 | 5:1 공동간병 | 6:1 공동간병 |\n",
      "\n",
      "10일 동안의 병실료차액은 1:1 개인간병 x 10일 = 1,000,000원입니다.\n",
      "\n",
      "기타(기저귀 등):\n",
      "\n",
      "사용량에 따라 추가 비용이 발생할 수 있습니다.\n",
      "\n",
      "결과적으로, 1인실에 10일 입원하신 경우 예상 병원비는 약 25,553,500원입니다.\n"
     ]
    }
   ],
   "source": [
    "query = \"1인실에 10일 입원했다면 얼마정도 병원비가 예상될까?\"\n",
    "print(qa_chain.invoke(query))"
   ]
  }
 ],
 "metadata": {
  "kernelspec": {
   "display_name": ".venv",
   "language": "python",
   "name": "python3"
  },
  "language_info": {
   "codemirror_mode": {
    "name": "ipython",
    "version": 3
   },
   "file_extension": ".py",
   "mimetype": "text/x-python",
   "name": "python",
   "nbconvert_exporter": "python",
   "pygments_lexer": "ipython3",
   "version": "3.12.4"
  }
 },
 "nbformat": 4,
 "nbformat_minor": 2
}
